{
 "cells": [
  {
   "cell_type": "code",
   "execution_count": 1,
   "metadata": {
    "collapsed": true
   },
   "outputs": [],
   "source": [
    "import google_movies_scraper as gms"
   ]
  },
  {
   "cell_type": "markdown",
   "metadata": {},
   "source": [
    "## `extract_all_theatres_and_showtimes`\n",
    "\n",
    "This will return an array of dictionaries, and throw warnings if anything\n",
    "went askew with the parsing.\n",
    "\n",
    "- `near`: a string that google will use to infer a location.\n",
    "- `days_from_now`: an integer (string) or `None` indicating how many days in the future the\n",
    "desired showtimes should be planned for. If `None` the value is defaulted to 0 (i.e. today)."
   ]
  },
  {
   "cell_type": "code",
   "execution_count": 2,
   "metadata": {
    "collapsed": false
   },
   "outputs": [
    {
     "name": "stderr",
     "output_type": "stream",
     "text": [
      "/Users/user/repos/gms/google_movies_scraper.py:49: UserWarning: Valley Cinema 2 may not be properly scraped...\n",
      "  warnings.warn(theatre_name_a.get_text() + \" may not be properly scraped...\" )\n",
      "/Users/user/repos/gms/google_movies_scraper.py:93: UserWarning: Couldn't extract tid from \n",
      "  warnings.warn(\"Couldn't extract \" + id_type + \" from \" + href)\n"
     ]
    }
   ],
   "source": [
    "demo = gms.extract_all_theatres_and_showtimes(near = 'Hinsdale, Montana', days_from_now = '5')"
   ]
  },
  {
   "cell_type": "code",
   "execution_count": 3,
   "metadata": {
    "collapsed": false,
    "scrolled": true
   },
   "outputs": [
    {
     "name": "stdout",
     "output_type": "stream",
     "text": [
      "[{'address': '600 2nd Avenue South, Glasgow, MT, United States',\n",
      "  'name': 'Valley Cinema 2',\n",
      "  'phone_number': '(406) 228-9239',\n",
      "  'program': [{'mid': 'e65f11b56eee1b30',\n",
      "               'misc_info': 'Comedy/Romance - Trailer - IMDb',\n",
      "               'name': 'How to Be Single',\n",
      "               'rating': 'Rated R',\n",
      "               'runtime': 110,\n",
      "               'showtimes': ['4:00', '7:00', '9:15'],\n",
      "               'url': '/movies?date=5&near=Hinsdale,+Montana&mid=e65f11b56eee1b30',\n",
      "               'warning_thrown': False},\n",
      "              {'mid': '8eee9ce1ec41a6fb',\n",
      "               'misc_info': 'Animation - Trailer - IMDb',\n",
      "               'name': 'Kung Fu Panda 3',\n",
      "               'rating': 'Rated PG',\n",
      "               'runtime': 95,\n",
      "               'showtimes': ['4:10', '7:15', '9:10'],\n",
      "               'url': '/movies?date=5&near=Hinsdale,+Montana&mid=8eee9ce1ec41a6fb',\n",
      "               'warning_thrown': False}],\n",
      "  'tid': None,\n",
      "  'url': '',\n",
      "  'warning_thrown': True}]\n"
     ]
    }
   ],
   "source": [
    "import pprint # https://docs.python.org/3.5/library/pprint.html\n",
    "pprint.pprint(demo)"
   ]
  }
 ],
 "metadata": {
  "kernelspec": {
   "display_name": "Python 3",
   "language": "python",
   "name": "python3"
  },
  "language_info": {
   "codemirror_mode": {
    "name": "ipython",
    "version": 3
   },
   "file_extension": ".py",
   "mimetype": "text/x-python",
   "name": "python",
   "nbconvert_exporter": "python",
   "pygments_lexer": "ipython3",
   "version": "3.5.1"
  }
 },
 "nbformat": 4,
 "nbformat_minor": 0
}
